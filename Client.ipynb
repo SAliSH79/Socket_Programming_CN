{
 "cells": [
  {
   "cell_type": "code",
   "execution_count": 1,
   "id": "86d3ec2e-d418-49ca-bdf7-3631e02703d3",
   "metadata": {},
   "outputs": [],
   "source": [
    "import socket"
   ]
  },
  {
   "cell_type": "code",
   "execution_count": 2,
   "id": "24a27c6d-30c8-43f2-8a9a-0951e0e53c53",
   "metadata": {},
   "outputs": [],
   "source": [
    "PORT = 7447 #manual port number initiating\n",
    "Message_Length_Size = 64 #byte \n",
    "encoding = 'utf-8'"
   ]
  },
  {
   "cell_type": "code",
   "execution_count": 3,
   "id": "82d073b1-1ca0-479f-a902-bca1cc9d5e8f",
   "metadata": {},
   "outputs": [],
   "source": [
    "def main():\n",
    "  \n",
    "    address = socket.gethostbyname(socket.gethostname())\n",
    "    \n",
    "    Server_Information = (address,PORT)\n",
    "\n",
    "    s = socket.socket(socket.AF_INET, socket.SOCK_STREAM)\n",
    "\n",
    "    s.connect(Server_Information) #The client calls .connect() to establish a connection to the server \n",
    "                                  #and initiate the three-way handshake. The handshake step is important \n",
    "                                  #because it ensures that each side of the connection is reachable in the\n",
    "                                  #network,in other words that the client can reach the server and vice-versa. \n",
    " \n",
    "    send_msg(s, \"Hello word!!\")\n",
    "    send_msg(s, \"Hallo wie gehts Ihnen? Ohne Fleiß, kein Preis\")\n",
    "    send_msg(s, \"Bye Bye\")\n",
    "    send_msg(s, \"Disconnect\")\n",
    "\n",
    "def send_msg(client, msg):\n",
    "\n",
    "    message = msg.encode(encoding)\n",
    "\n",
    "    msg_length = len(message)\n",
    "    msg_length = str(msg_length).encode(encoding)\n",
    "    msg_length += b' ' * (Message_Length_Size - len(msg_length))  #Adding parity to reach 64 byte message\n",
    "\n",
    "  \n",
    "    client.send(msg_length)\n",
    "    client.send(message)\n",
    "\n",
    "\n",
    "if __name__ == \"__main__\":\n",
    "    main()"
   ]
  }
 ],
 "metadata": {
  "kernelspec": {
   "display_name": "Python 3 (ipykernel)",
   "language": "python",
   "name": "python3"
  },
  "language_info": {
   "codemirror_mode": {
    "name": "ipython",
    "version": 3
   },
   "file_extension": ".py",
   "mimetype": "text/x-python",
   "name": "python",
   "nbconvert_exporter": "python",
   "pygments_lexer": "ipython3",
   "version": "3.10.8"
  }
 },
 "nbformat": 4,
 "nbformat_minor": 5
}
