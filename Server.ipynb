{
 "cells": [
  {
   "cell_type": "code",
   "execution_count": 2,
   "id": "78a53dab-700f-421e-86b7-51647dc56600",
   "metadata": {},
   "outputs": [],
   "source": [
    "import socket\n",
    "import threading #Libraries for Server side of the Network"
   ]
  },
  {
   "cell_type": "markdown",
   "id": "baf9428d-d781-44e2-8d51-7b4876385f57",
   "metadata": {},
   "source": [
    "### Not only helpful but also our refrence <a href=\"https://realpython.com/python-sockets/\">webpage</a> in this project."
   ]
  },
  {
   "cell_type": "code",
   "execution_count": 3,
   "id": "9e2f8417-5ca5-4b33-afc5-fd486f0d9639",
   "metadata": {},
   "outputs": [
    {
     "name": "stdout",
     "output_type": "stream",
     "text": [
      "DESKTOP-GNS842F\n"
     ]
    }
   ],
   "source": [
    "address2 = socket.gethostname()\n",
    "print(address2) #Name"
   ]
  },
  {
   "cell_type": "code",
   "execution_count": 4,
   "id": "3fe1d873-8b1a-4bdb-a545-570f5a4093bd",
   "metadata": {},
   "outputs": [
    {
     "name": "stdout",
     "output_type": "stream",
     "text": [
      "127.0.1.1\n"
     ]
    }
   ],
   "source": [
    "address = socket.gethostbyname(socket.gethostname())\n",
    "print(address) #IP address of localhost"
   ]
  },
  {
   "cell_type": "code",
   "execution_count": 5,
   "id": "6dce19d9-7030-4f6c-86af-1b5d77e2ba7d",
   "metadata": {},
   "outputs": [],
   "source": [
    "PORT = 7447 #manual port number initiating\n",
    "Message_Length_Size = 64 #byte \n",
    "encoding = 'utf-8'"
   ]
  },
  {
   "cell_type": "markdown",
   "id": "db2999f3-8b87-4c9b-9c7c-6256dca3362a",
   "metadata": {},
   "source": [
    "## Server Building"
   ]
  },
  {
   "cell_type": "code",
   "execution_count": null,
   "id": "8c28d1b0-5d62-49e0-afab-6de643316ab2",
   "metadata": {},
   "outputs": [
    {
     "name": "stdout",
     "output_type": "stream",
     "text": [
      "[Server is Starting ....]\n",
      "[New Connection] is established from ('127.0.0.1', 18303)\n",
      "[Message Received] Hello word!!\n",
      "[Message Received] Hallo wie gehts Ihnen? Ohne Fleiß, kein Preis\n",
      "[Message Received] Bye Bye\n",
      "[Message Received] Disconnect\n"
     ]
    }
   ],
   "source": [
    "def main():\n",
    "    address = socket.gethostbyname(socket.gethostname())\n",
    "\n",
    "    Host_Information = (address,PORT)\n",
    "     \n",
    "    s = socket.socket(socket.AF_INET, socket.SOCK_STREAM) #creates a socket object \n",
    "    #socket type. AF_INET is the Internet address family for IPv4. \n",
    "    #SOCK_STREAM is the socket type for TCP\n",
    "\n",
    "    s.bind(Host_Information) \n",
    "    #The .bind() method is used to associate the socket with a specific network interface and port number\n",
    "    \n",
    "    print(\"[Server is Starting ....]\")\n",
    "\n",
    "    start(s)\n",
    "    \n",
    "def start(server):\n",
    "    server.listen() # listens for connections from clients.\n",
    "\n",
    "    while True:\n",
    "        \n",
    "        conn, address = server.accept() #to accept, or complete, the connection\n",
    "    \n",
    "        t = threading.Thread(target = handle_client, args = (conn, address))\n",
    "    \n",
    "        t.start()\n",
    "\n",
    "def handle_client(conn, address):\n",
    "    print(\"[New Connection] is established from {}\".format(address))\n",
    "\n",
    "    connected = True\n",
    "    \n",
    "    while connected:\n",
    "    \n",
    "        message_length = int(conn.recv(Message_Length_Size).decode(encoding))\n",
    "        msg = conn.recv(message_length).decode(encoding)\n",
    "\n",
    "        print(\"[Message Received] {}\".format(msg))\n",
    "\n",
    "        if msg == \"Disconnect\":\n",
    "            connected = False\n",
    "\n",
    "    conn.close()\n",
    "\n",
    "\n",
    "if __name__ == '__main__':\n",
    "    main()"
   ]
  }
 ],
 "metadata": {
  "kernelspec": {
   "display_name": "Python 3 (ipykernel)",
   "language": "python",
   "name": "python3"
  },
  "language_info": {
   "codemirror_mode": {
    "name": "ipython",
    "version": 3
   },
   "file_extension": ".py",
   "mimetype": "text/x-python",
   "name": "python",
   "nbconvert_exporter": "python",
   "pygments_lexer": "ipython3",
   "version": "3.10.8"
  }
 },
 "nbformat": 4,
 "nbformat_minor": 5
}
